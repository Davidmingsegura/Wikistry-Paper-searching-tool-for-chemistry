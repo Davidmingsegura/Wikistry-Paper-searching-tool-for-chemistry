{
 "cells": [
  {
   "cell_type": "code",
   "execution_count": 3,
   "metadata": {},
   "outputs": [],
   "source": [
    "import requests\n",
    "from transformers import pipeline\n",
    "from langchain.agents import initialize_agent\n",
    "from langchain.tools import Tool\n",
    "import xml.etree.ElementTree as ET\n",
    "import streamlit as st\n",
    "from langchain.agents import initialize_agent\n",
    "from bs4 import BeautifulSoup\n",
    "import os\n",
    "from dotenv import load_dotenv\n",
    "from langchain_openai import ChatOpenAI \n",
    "from langchain_community.llms import OpenAI\n",
    "import xml.etree.ElementTree as ET\n"
   ]
  },
  {
   "cell_type": "code",
   "execution_count": 24,
   "metadata": {},
   "outputs": [],
   "source": [
    "def fetch_arxiv(query, max_results=5):\n",
    "    \"\"\"Fetch articles from arXiv using flexible query syntax.\"\"\"\n",
    "    base_url = \"http://export.arxiv.org/api/query\"\n",
    "    params = {\n",
    "        \"search_query\": f\"all:{query}\", \n",
    "        \"start\": 0,\n",
    "        \"max_results\": max_results\n",
    "    }\n",
    "    try:\n",
    "        response = requests.get(base_url, params=params)\n",
    "        response.raise_for_status()\n",
    "        return response.text\n",
    "    except requests.exceptions.RequestException as e:\n",
    "        print(f\"Error fetching ArXiv articles: {e}\")\n",
    "        return None\n",
    "\n"
   ]
  },
  {
   "cell_type": "code",
   "execution_count": 4,
   "metadata": {},
   "outputs": [],
   "source": [
    "def parse_arxiv_response(xml_response):\n",
    "    \"\"\"Parse the arXiv XML response into a standardized list of articles.\"\"\"\n",
    "    try:\n",
    "        root = ET.fromstring(xml_response)  # Parse the XML\n",
    "    except ET.ParseError as e:\n",
    "        print(f\"Error parsing ArXiv XML: {e}\")\n",
    "        return []\n",
    "\n",
    "    namespace = {\"atom\": \"http://www.w3.org/2005/Atom\"}\n",
    "\n",
    "    articles = []\n",
    "    for entry in root.findall(\"atom:entry\", namespace):\n",
    "        title = entry.find(\"atom:title\", namespace).text.strip() if entry.find(\"atom:title\", namespace) is not None else \"No title\"\n",
    "        summary = entry.find(\"atom:summary\", namespace).text.strip() if entry.find(\"atom:summary\", namespace) is not None else \"No abstract\"\n",
    "        link = entry.find(\"atom:id\", namespace).text.strip() if entry.find(\"atom:id\", namespace) is not None else \"No link\"\n",
    "\n",
    "        authors = []\n",
    "        for author in entry.findall(\"atom:author\", namespace):\n",
    "            name = author.find(\"atom:name\", namespace).text.strip() if author.find(\"atom:name\", namespace) is not None else \"Unknown Author\"\n",
    "            authors.append(name)\n",
    "\n",
    "        articles.append({\n",
    "            \"title\": title,\n",
    "            \"abstract\": summary,\n",
    "            \"link\": link,\n",
    "            \"authors\": \", \".join(authors)\n",
    "        })\n",
    "\n",
    "    return articles"
   ]
  },
  {
   "cell_type": "code",
   "execution_count": 6,
   "metadata": {},
   "outputs": [],
   "source": [
    "def summarize_text(text):\n",
    "    \"\"\"Summarize the given text, dynamically adjusting max_length.\"\"\"\n",
    "    text_length = len(text.split())\n",
    "    max_length = min(100, text_length + 10)  \n",
    "    return summarizer(text, max_length=max_length, min_length=5, do_sample=False)[0]['summary_text']\n",
    "\n",
    "\n",
    "def search_and_summarize(query, max_results=5):\n",
    "    \"\"\"Search and summarize articles from arxiv\"\"\"\n",
    "    arxiv_data = fetch_arxiv(query, max_results=max_results)\n",
    "    arxiv_articles = parse_arxiv_response(arxiv_data) if arxiv_data else []\n",
    "\n",
    "    all_articles = acs_articles\n",
    "\n",
    "    for article in all_articles:\n",
    "        if \"abstract\" in article and article[\"abstract\"] != \"No abstract\":\n",
    "            article[\"summary\"] = summarize_text(article[\"abstract\"])\n",
    "        else:\n",
    "            article[\"summary\"] = \"No abstract available for summarization.\"\n",
    "\n",
    "    return all_articles"
   ]
  },
  {
   "cell_type": "markdown",
   "metadata": {},
   "source": [
    "## Toools for Agent"
   ]
  },
  {
   "cell_type": "code",
   "execution_count": 7,
   "metadata": {},
   "outputs": [],
   "source": [
    "fetch_arxiv_tool = Tool(\n",
    "    name=\"FetchArxiv\",\n",
    "    func=lambda query: parse_arxiv_response(fetch_arxiv(query)),\n",
    "    description=(\n",
    "        \"Fetches articles from arXiv based on a query. \"\n",
    "        \"Returns a list of articles with titles, abstracts, and links.\"\n",
    "    )\n",
    ")\n",
    "\n",
    "summarize_tool = Tool(\n",
    "    name=\"SummarizeText\",\n",
    "    func=summarize_text,\n",
    "    description=(\n",
    "        \"Summarizes a given text using a pre-trained summarization model. \"\n",
    "        \"The input text should be a single abstract or article content.\"\n",
    "    )\n",
    ")"
   ]
  },
  {
   "cell_type": "markdown",
   "metadata": {},
   "source": [
    "## Initialization of the Agent"
   ]
  },
  {
   "cell_type": "code",
   "execution_count": 8,
   "metadata": {},
   "outputs": [
    {
     "name": "stderr",
     "output_type": "stream",
     "text": [
      "/var/folders/g8/mq_cbywj17g7tbgmmcy_bxm40000gn/T/ipykernel_58538/820148263.py:6: LangChainDeprecationWarning: LangChain agents will continue to be supported, but it is recommended for new use cases to be built with LangGraph. LangGraph offers a more flexible and full-featured framework for building agents, including support for tool-calling, persistence of state, and human-in-the-loop workflows. For details, refer to the `LangGraph documentation <https://langchain-ai.github.io/langgraph/>`_ as well as guides for `Migrating from AgentExecutor <https://python.langchain.com/docs/how_to/migrate_agent/>`_ and LangGraph's `Pre-built ReAct agent <https://langchain-ai.github.io/langgraph/how-tos/create-react-agent/>`_.\n",
      "  agent = initialize_agent(\n"
     ]
    }
   ],
   "source": [
    "load_dotenv()\n",
    "\n",
    "openai_api_key = os.getenv(\"OPENAI_API_KEY\")\n",
    "\n",
    "llm = ChatOpenAI(model=\"gpt-4o-mini\", temperature=0.7)  \n",
    "agent = initialize_agent(\n",
    "    tools=[fetch_arxiv_tool, summarize_tool],\n",
    "    llm=llm,\n",
    "    agent=\"zero-shot-react-description\",\n",
    "    verbose=True\n",
    ")\n"
   ]
  },
  {
   "cell_type": "markdown",
   "metadata": {},
   "source": [
    "## Entering the task"
   ]
  },
  {
   "cell_type": "code",
   "execution_count": 9,
   "metadata": {},
   "outputs": [
    {
     "name": "stderr",
     "output_type": "stream",
     "text": [
      "/var/folders/g8/mq_cbywj17g7tbgmmcy_bxm40000gn/T/ipykernel_58538/2944038696.py:2: LangChainDeprecationWarning: The method `Chain.run` was deprecated in langchain 0.1.0 and will be removed in 1.0. Use :meth:`~invoke` instead.\n",
      "  response = agent.run(query)\n"
     ]
    },
    {
     "name": "stdout",
     "output_type": "stream",
     "text": [
      "\n",
      "\n",
      "\u001b[1m> Entering new AgentExecutor chain...\u001b[0m\n",
      "\u001b[32;1m\u001b[1;3mI need to find recent research articles related to drug discovery to provide a comprehensive answer. \n",
      "Action: FetchArxiv\n",
      "Action Input: \"Drug discovery\"\u001b[0m\n",
      "Observation: \u001b[36;1m\u001b[1;3m[{'title': 'Energy-based Generative Models for Target-specific Drug Discovery', 'abstract': 'Drug targets are the main focus of drug discovery due to their key role in\\ndisease pathogenesis. Computational approaches are widely applied to drug\\ndevelopment because of the increasing availability of biological molecular\\ndatasets. Popular generative approaches can create new drug molecules by\\nlearning the given molecule distributions. However, these approaches are mostly\\nnot for target-specific drug discovery. We developed an energy-based\\nprobabilistic model for computational target-specific drug discovery. Results\\nshow that our proposed TagMol can generate molecules with similar binding\\naffinity scores as real molecules. GAT-based models showed faster and better\\nlearning relative to GCN baseline models.', 'link': 'http://arxiv.org/abs/2212.02404v1', 'authors': 'Junde Li, Collin Beaudoin, Swaroop Ghosh'}, {'title': 'NeuroCADR: Drug Repurposing to Reveal Novel Anti-Epileptic Drug\\n  Candidates Through an Integrated Computational Approach', 'abstract': \"Drug repurposing is an emerging approach for drug discovery involving the\\nreassignment of existing drugs for novel purposes. An alternative to the\\ntraditional de novo process of drug development, repurposed drugs are faster,\\ncheaper, and less failure prone than drugs developed from traditional methods.\\nRecently, drug repurposing has been performed in silico, in which databases of\\ndrugs and chemical information are used to determine interactions between\\ntarget proteins and drug molecules to identify potential drug candidates. A\\nproposed algorithm is NeuroCADR, a novel system for drug repurposing via a\\nmulti-pronged approach consisting of k-nearest neighbor algorithms (KNN),\\nrandom forest classification, and decision trees. Data was sourced from several\\ndatabases consisting of interactions between diseases, symptoms, genes, and\\naffiliated drug molecules, which were then compiled into datasets expressed in\\nbinary. The proposed method displayed a high level of accuracy, outperforming\\nnearly all in silico approaches. NeuroCADR was performed on epilepsy, a\\ncondition characterized by seizures, periods of time with bursts of\\nuncontrolled electrical activity in brain cells. Existing drugs for epilepsy\\ncan be ineffective and expensive, revealing a need for new antiepileptic drugs.\\nNeuroCADR identified novel drug candidates for epilepsy that can be further\\napproved through clinical trials. The algorithm has the potential to determine\\npossible drug combinations to prescribe a patient based on a patient's prior\\nmedical history. This project examines NeuroCADR, a novel approach to\\ncomputational drug repurposing capable of revealing potential drug candidates\\nin neurological diseases such as epilepsy.\", 'link': 'http://arxiv.org/abs/2309.13047v1', 'authors': 'Srilekha Mamidala'}, {'title': 'Zero-shot Learning of Drug Response Prediction for Preclinical Drug\\n  Screening', 'abstract': 'Conventional deep learning methods typically employ supervised learning for\\ndrug response prediction (DRP). This entails dependence on labeled response\\ndata from drugs for model training. However, practical applications in the\\npreclinical drug screening phase demand that DRP models predict responses for\\nnovel compounds, often with unknown drug responses. This presents a challenge,\\nrendering supervised deep learning methods unsuitable for such scenarios. In\\nthis paper, we propose a zero-shot learning solution for the DRP task in\\npreclinical drug screening. Specifically, we propose a Multi-branch\\nMulti-Source Domain Adaptation Test Enhancement Plug-in, called MSDA. MSDA can\\nbe seamlessly integrated with conventional DRP methods, learning invariant\\nfeatures from the prior response data of similar drugs to enhance real-time\\npredictions of unlabeled compounds. We conducted experiments using the GDSCv2\\nand CellMiner datasets. The results demonstrate that MSDA efficiently predicts\\ndrug responses for novel compounds, leading to a general performance\\nimprovement of 5-10\\\\% in the preclinical drug screening phase. The significance\\nof this solution resides in its potential to accelerate the drug discovery\\nprocess, improve drug candidate assessment, and facilitate the success of drug\\ndiscovery.', 'link': 'http://arxiv.org/abs/2310.12996v1', 'authors': 'Kun Li, Yong Luo, Xiantao Cai, Wenbin Hu, Bo Du'}, {'title': 'Drug-target interaction prediction by integrating heterogeneous\\n  information with mutual attention network', 'abstract': 'Identification of drug-target interactions is an indispensable part of drug\\ndiscovery. While conventional shallow machine learning and recent deep learning\\nmethods based on chemogenomic properties of drugs and target proteins have\\npushed this prediction performance improvement to a new level, these methods\\nare still difficult to adapt to novel structures. Alternatively, large-scale\\nbiological and pharmacological data provide new ways to accelerate drug-target\\ninteraction prediction. Here, we propose DrugMAN, a deep learning model for\\npredicting drug-target interaction by integrating multiplex heterogeneous\\nfunctional networks with a mutual attention network (MAN). DrugMAN uses a graph\\nattention network-based integration algorithm to learn network-specific\\nlow-dimensional features for drugs and target proteins by integrating four drug\\nnetworks and seven gene/protein networks, respectively. DrugMAN then captures\\ninteraction information between drug and target representations by a mutual\\nattention network to improve drug-target prediction. DrugMAN achieves the best\\nprediction performance under four different scenarios, especially in real-world\\nscenarios. DrugMAN spotlights heterogeneous information to mine drug-target\\ninteractions and can be a powerful tool for drug discovery and drug\\nrepurposing.', 'link': 'http://arxiv.org/abs/2404.03516v1', 'authors': 'Yuanyuan Zhang, Yingdong Wang, Chaoyong Wu, Lingmin Zhana, Aoyi Wang, Caiping Cheng, Jinzhong Zhao, Wuxia Zhang, Jianxin Chen, Peng Li'}, {'title': 'Novel prediction methods for virtual drug screening', 'abstract': 'Drug development is an expensive and time-consuming process where thousands\\nof chemical compounds are being tested in order to find those possessing\\ndrug-like properties while being safe and effective. One of key parts of the\\nearly drug discovery process has become virtual drug screening -- a method used\\nto narrow down search for potential drugs by running computer simulations of\\ndrug-target interactions. As these methods are known to demand huge amounts of\\ncomputational power to get accurate results, prediction models based on machine\\nlearning techniques became a popular solution requiring less computational\\npower as well as offering the ability to generate novel chemical structures for\\nfurther research. Deep learning is to stay in drug discovery but has a long way\\nto go. Only in the past few years with increases in computing power have\\nresearchers really started to embrace the potential of neural networks in\\nvarious stages of the drug discovery process. While prediction methods promise\\ngreat perspective in the future development of drug discovery they open new\\nquestions and challenges that still have to be solved.', 'link': 'http://arxiv.org/abs/2202.06635v1', 'authors': 'Josip Mesarić'}]\u001b[0m\n",
      "Thought:\u001b[32;1m\u001b[1;3mI now have several recent articles related to drug discovery, which cover various approaches and methodologies being researched in the field. \n",
      "\n",
      "Final Answer: Here are some recent research articles related to drug discovery:\n",
      "\n",
      "1. **Energy-based Generative Models for Target-specific Drug Discovery**\n",
      "   - **Abstract**: This paper presents an energy-based probabilistic model for computational target-specific drug discovery, showing that the proposed model can generate molecules with binding affinity scores similar to real molecules.\n",
      "   - [Read more](http://arxiv.org/abs/2212.02404v1)\n",
      "\n",
      "2. **NeuroCADR: Drug Repurposing to Reveal Novel Anti-Epileptic Drug Candidates Through an Integrated Computational Approach**\n",
      "   - **Abstract**: The paper introduces NeuroCADR, a novel algorithm for drug repurposing that integrates several machine learning methods to identify potential drug candidates for epilepsy. The approach is faster and less costly compared to traditional methods.\n",
      "   - [Read more](http://arxiv.org/abs/2309.13047v1)\n",
      "\n",
      "3. **Zero-shot Learning of Drug Response Prediction for Preclinical Drug Screening**\n",
      "   - **Abstract**: This research proposes a zero-shot learning solution for drug response prediction, which enhances predictions for novel compounds during preclinical drug screening, improving performance by 5-10%.\n",
      "   - [Read more](http://arxiv.org/abs/2310.12996v1)\n",
      "\n",
      "4. **Drug-target interaction prediction by integrating heterogeneous information with mutual attention network**\n",
      "   - **Abstract**: The study presents DrugMAN, a deep learning model that predicts drug-target interactions by integrating various functional networks, achieving improved prediction performance.\n",
      "   - [Read more](http://arxiv.org/abs/2404.03516v1)\n",
      "\n",
      "5. **Novel prediction methods for virtual drug screening**\n",
      "   - **Abstract**: This paper discusses the importance of virtual drug screening in the early drug discovery process and highlights the potential of machine learning techniques in improving prediction models.\n",
      "   - [Read more](http://arxiv.org/abs/2202.06635v1)\n",
      "\n",
      "These articles illustrate the innovative approaches being explored in the field of drug discovery.\u001b[0m\n",
      "\n",
      "\u001b[1m> Finished chain.\u001b[0m\n",
      "Here are some recent research articles related to drug discovery:\n",
      "\n",
      "1. **Energy-based Generative Models for Target-specific Drug Discovery**\n",
      "   - **Abstract**: This paper presents an energy-based probabilistic model for computational target-specific drug discovery, showing that the proposed model can generate molecules with binding affinity scores similar to real molecules.\n",
      "   - [Read more](http://arxiv.org/abs/2212.02404v1)\n",
      "\n",
      "2. **NeuroCADR: Drug Repurposing to Reveal Novel Anti-Epileptic Drug Candidates Through an Integrated Computational Approach**\n",
      "   - **Abstract**: The paper introduces NeuroCADR, a novel algorithm for drug repurposing that integrates several machine learning methods to identify potential drug candidates for epilepsy. The approach is faster and less costly compared to traditional methods.\n",
      "   - [Read more](http://arxiv.org/abs/2309.13047v1)\n",
      "\n",
      "3. **Zero-shot Learning of Drug Response Prediction for Preclinical Drug Screening**\n",
      "   - **Abstract**: This research proposes a zero-shot learning solution for drug response prediction, which enhances predictions for novel compounds during preclinical drug screening, improving performance by 5-10%.\n",
      "   - [Read more](http://arxiv.org/abs/2310.12996v1)\n",
      "\n",
      "4. **Drug-target interaction prediction by integrating heterogeneous information with mutual attention network**\n",
      "   - **Abstract**: The study presents DrugMAN, a deep learning model that predicts drug-target interactions by integrating various functional networks, achieving improved prediction performance.\n",
      "   - [Read more](http://arxiv.org/abs/2404.03516v1)\n",
      "\n",
      "5. **Novel prediction methods for virtual drug screening**\n",
      "   - **Abstract**: This paper discusses the importance of virtual drug screening in the early drug discovery process and highlights the potential of machine learning techniques in improving prediction models.\n",
      "   - [Read more](http://arxiv.org/abs/2202.06635v1)\n",
      "\n",
      "These articles illustrate the innovative approaches being explored in the field of drug discovery.\n"
     ]
    }
   ],
   "source": [
    "query = \"Drug discovery\"\n",
    "response = agent.run(query)\n",
    "print(response)\n"
   ]
  },
  {
   "cell_type": "code",
   "execution_count": 10,
   "metadata": {},
   "outputs": [],
   "source": [
    "query = \"machine learning\"\n",
    "results = fetch_arxiv(query, max_results=5)\n",
    "parsed_articles = parse_arxiv_response(results)"
   ]
  },
  {
   "cell_type": "code",
   "execution_count": 12,
   "metadata": {},
   "outputs": [
    {
     "data": {
      "text/plain": [
       "[{'title': 'Lecture Notes: Optimization for Machine Learning',\n",
       "  'abstract': 'Lecture notes on optimization for machine learning, derived from a course at\\nPrinceton University and tutorials given in MLSS, Buenos Aires, as well as\\nSimons Foundation, Berkeley.',\n",
       "  'link': 'http://arxiv.org/abs/1909.03550v1',\n",
       "  'authors': 'Elad Hazan'},\n",
       " {'title': 'An Optimal Control View of Adversarial Machine Learning',\n",
       "  'abstract': \"I describe an optimal control view of adversarial machine learning, where the\\ndynamical system is the machine learner, the input are adversarial actions, and\\nthe control costs are defined by the adversary's goals to do harm and be hard\\nto detect. This view encompasses many types of adversarial machine learning,\\nincluding test-item attacks, training-data poisoning, and adversarial reward\\nshaping. The view encourages adversarial machine learning researcher to utilize\\nadvances in control theory and reinforcement learning.\",\n",
       "  'link': 'http://arxiv.org/abs/1811.04422v1',\n",
       "  'authors': 'Xiaojin Zhu'},\n",
       " {'title': 'Minimax deviation strategies for machine learning and recognition with\\n  short learning samples',\n",
       "  'abstract': 'The article is devoted to the problem of small learning samples in machine\\nlearning. The flaws of maximum likelihood learning and minimax learning are\\nlooked into and the concept of minimax deviation learning is introduced that is\\nfree of those flaws.',\n",
       "  'link': 'http://arxiv.org/abs/1707.04849v1',\n",
       "  'authors': 'Michail Schlesinger, Evgeniy Vodolazskiy'},\n",
       " {'title': 'Machine Learning for Clinical Predictive Analytics',\n",
       "  'abstract': 'In this chapter, we provide a brief overview of applying machine learning\\ntechniques for clinical prediction tasks. We begin with a quick introduction to\\nthe concepts of machine learning and outline some of the most common machine\\nlearning algorithms. Next, we demonstrate how to apply the algorithms with\\nappropriate toolkits to conduct machine learning experiments for clinical\\nprediction tasks. The objectives of this chapter are to (1) understand the\\nbasics of machine learning techniques and the reasons behind why they are\\nuseful for solving clinical prediction problems, (2) understand the intuition\\nbehind some machine learning models, including regression, decision trees, and\\nsupport vector machines, and (3) understand how to apply these models to\\nclinical prediction problems using publicly available datasets via case\\nstudies.',\n",
       "  'link': 'http://arxiv.org/abs/1909.09246v1',\n",
       "  'authors': 'Wei-Hung Weng'},\n",
       " {'title': 'Towards Modular Machine Learning Solution Development: Benefits and\\n  Trade-offs',\n",
       "  'abstract': \"Machine learning technologies have demonstrated immense capabilities in\\nvarious domains. They play a key role in the success of modern businesses.\\nHowever, adoption of machine learning technologies has a lot of untouched\\npotential. Cost of developing custom machine learning solutions that solve\\nunique business problems is a major inhibitor to far-reaching adoption of\\nmachine learning technologies. We recognize that the monolithic nature\\nprevalent in today's machine learning applications stands in the way of\\nefficient and cost effective customized machine learning solution development.\\nIn this work we explore the benefits of modular machine learning solutions and\\ndiscuss how modular machine learning solutions can overcome some of the major\\nsolution engineering limitations of monolithic machine learning solutions. We\\nanalyze the trade-offs between modular and monolithic machine learning\\nsolutions through three deep learning problems; one text based and the two\\nimage based. Our experimental results show that modular machine learning\\nsolutions have a promising potential to reap the solution engineering\\nadvantages of modularity while gaining performance and data advantages in a way\\nthe monolithic machine learning solutions do not permit.\",\n",
       "  'link': 'http://arxiv.org/abs/2301.09753v1',\n",
       "  'authors': 'Samiyuru Menik, Lakshmish Ramaswamy'}]"
      ]
     },
     "execution_count": 12,
     "metadata": {},
     "output_type": "execute_result"
    }
   ],
   "source": [
    "parsed_articles"
   ]
  },
  {
   "cell_type": "code",
   "execution_count": 13,
   "metadata": {},
   "outputs": [
    {
     "name": "stderr",
     "output_type": "stream",
     "text": [
      "Device set to use mps:0\n"
     ]
    }
   ],
   "source": [
    "summarizer = pipeline(\"summarization\", model=\"facebook/bart-large-cnn\")"
   ]
  },
  {
   "cell_type": "code",
   "execution_count": 17,
   "metadata": {},
   "outputs": [
    {
     "name": "stderr",
     "output_type": "stream",
     "text": [
      "Device set to use cpu\n",
      "Your max_length is set to 50, but your input_length is only 44. Since this is a summarization task, where outputs shorter than the input are typically wanted, you might consider decreasing max_length manually, e.g. summarizer('...', max_length=22)\n"
     ]
    },
    {
     "name": "stdout",
     "output_type": "stream",
     "text": [
      "[{'summary_text': ' Machine learning is a field of artificial intelligence (AI) that uses algorithmsand statistical models to perform tasks without using explicit instructions, relying on patterns and inference . It is widely used in various domains .'}]\n"
     ]
    }
   ],
   "source": [
    "test_abstract = \"\"\"Machine learning is a field of artificial intelligence (AI) that uses algorithms\n",
    "and statistical models to perform tasks without using explicit instructions, relying\n",
    "instead on patterns and inference. It is widely used in various domains.\"\"\"\n",
    "\n",
    "summarizer = pipeline(\"summarization\", model=\"sshleifer/distilbart-cnn-12-6\", device=-1)  # Use CPU\n",
    "test_summary = summarizer(test_abstract, max_length=50, min_length=20, do_sample=False)\n",
    "print(test_summary)"
   ]
  },
  {
   "cell_type": "code",
   "execution_count": 18,
   "metadata": {},
   "outputs": [
    {
     "name": "stderr",
     "output_type": "stream",
     "text": [
      "Your max_length is set to 100, but your input_length is only 40. Since this is a summarization task, where outputs shorter than the input are typically wanted, you might consider decreasing max_length manually, e.g. summarizer('...', max_length=20)\n",
      "Your max_length is set to 100, but your input_length is only 51. Since this is a summarization task, where outputs shorter than the input are typically wanted, you might consider decreasing max_length manually, e.g. summarizer('...', max_length=25)\n"
     ]
    },
    {
     "name": "stdout",
     "output_type": "stream",
     "text": [
      "Summary Result: [{'summary_text': ' Lecture notes on optimization for machine learning, derived from a course at Princeton University and tutorials given in MLSS, Buenos Aires, as well as MLSS .'}]\n",
      "Summary Result: [{'summary_text': \" An optimal control view of adversarial machine learning is defined by the adversary's goals to do harm and be hard to detect . The view includes test-item attacks, training-data poisoning and adversarial reward-shaping .\"}]\n",
      "Summary Result: [{'summary_text': ' The article is devoted to the problem of small learning samples in machine learning . The flaws of maximum likelihood learning and minimax learning are looked at . The concept of minimax deviation learning is introduced .'}]\n",
      "Summary Result: [{'summary_text': ' In this chapter, we provide a brief overview of applying machine learning techniques for clinical prediction tasks . We begin with a quick introduction to the concepts of machine learning and outline some of the most common machine learning algorithms . We demonstrate how to apply'}]\n",
      "Summary Result: [{'summary_text': ' Machine learning technologies play a key role in the success of modern businesses . Cost of developing custom machine learning solutions that solve unique business problems is a major inhibitor to far-reaching adoption of machine learning technologies . We recognize that the monolithic nature'}]\n",
      "Title: Lecture Notes: Optimization for Machine Learning\n",
      "Abstract: Lecture notes on optimization for machine learning, derived from a course at\n",
      "Princeton University and tutorials given in MLSS, Buenos Aires, as well as\n",
      "Simons Foundation, Berkeley.\n",
      "Summary:  Lecture notes on optimization for machine learning, derived from a course at Princeton University and tutorials given in MLSS, Buenos Aires, as well as MLSS .\n",
      "--------------------------------------------------------------------------------\n",
      "Title: An Optimal Control View of Adversarial Machine Learning\n",
      "Abstract: I describe an optimal control view of adversarial machine learning, where the\n",
      "dynamical system is the machine learner, the input are adversarial actions, and\n",
      "the control costs are defined by the adversary's goals to do harm and be hard\n",
      "to detect. This view encompasses many types of adversarial machine learning,\n",
      "including test-item attacks, training-data poisoning, and adversarial reward\n",
      "shaping. The view encourages adversarial machine learning researcher to utilize\n",
      "advances in control theory and reinforcement learning.\n",
      "Summary:  An optimal control view of adversarial machine learning is defined by the adversary's goals to do harm and be hard to detect . The view includes test-item attacks, training-data poisoning and adversarial reward-shaping .\n",
      "--------------------------------------------------------------------------------\n",
      "Title: Minimax deviation strategies for machine learning and recognition with\n",
      "  short learning samples\n",
      "Abstract: The article is devoted to the problem of small learning samples in machine\n",
      "learning. The flaws of maximum likelihood learning and minimax learning are\n",
      "looked into and the concept of minimax deviation learning is introduced that is\n",
      "free of those flaws.\n",
      "Summary:  The article is devoted to the problem of small learning samples in machine learning . The flaws of maximum likelihood learning and minimax learning are looked at . The concept of minimax deviation learning is introduced .\n",
      "--------------------------------------------------------------------------------\n",
      "Title: Machine Learning for Clinical Predictive Analytics\n",
      "Abstract: In this chapter, we provide a brief overview of applying machine learning\n",
      "techniques for clinical prediction tasks. We begin with a quick introduction to\n",
      "the concepts of machine learning and outline some of the most common machine\n",
      "learning algorithms. Next, we demonstrate how to apply the algorithms with\n",
      "appropriate toolkits to conduct machine learning experiments for clinical\n",
      "prediction tasks. The objectives of this chapter are to (1) understand the\n",
      "basics of machine learning techniques and the reasons behind why they are\n",
      "useful for solving clinical prediction problems, (2) understand the intuition\n",
      "behind some machine learning models, including regression, decision trees, and\n",
      "support vector machines, and (3) understand how to apply these models to\n",
      "clinical prediction problems using publicly available datasets via case\n",
      "studies.\n",
      "Summary:  In this chapter, we provide a brief overview of applying machine learning techniques for clinical prediction tasks . We begin with a quick introduction to the concepts of machine learning and outline some of the most common machine learning algorithms . We demonstrate how to apply\n",
      "--------------------------------------------------------------------------------\n",
      "Title: Towards Modular Machine Learning Solution Development: Benefits and\n",
      "  Trade-offs\n",
      "Abstract: Machine learning technologies have demonstrated immense capabilities in\n",
      "various domains. They play a key role in the success of modern businesses.\n",
      "However, adoption of machine learning technologies has a lot of untouched\n",
      "potential. Cost of developing custom machine learning solutions that solve\n",
      "unique business problems is a major inhibitor to far-reaching adoption of\n",
      "machine learning technologies. We recognize that the monolithic nature\n",
      "prevalent in today's machine learning applications stands in the way of\n",
      "efficient and cost effective customized machine learning solution development.\n",
      "In this work we explore the benefits of modular machine learning solutions and\n",
      "discuss how modular machine learning solutions can overcome some of the major\n",
      "solution engineering limitations of monolithic machine learning solutions. We\n",
      "analyze the trade-offs between modular and monolithic machine learning\n",
      "solutions through three deep learning problems; one text based and the two\n",
      "image based. Our experimental results show that modular machine learning\n",
      "solutions have a promising potential to reap the solution engineering\n",
      "advantages of modularity while gaining performance and data advantages in a way\n",
      "the monolithic machine learning solutions do not permit.\n",
      "Summary:  Machine learning technologies play a key role in the success of modern businesses . Cost of developing custom machine learning solutions that solve unique business problems is a major inhibitor to far-reaching adoption of machine learning technologies . We recognize that the monolithic nature\n",
      "--------------------------------------------------------------------------------\n"
     ]
    }
   ],
   "source": [
    "for article in parsed_articles:\n",
    "    if article[\"abstract\"] and article[\"abstract\"] != \"No abstract\":\n",
    "        article[\"summary\"] = summarizer(article[\"abstract\"], max_length=100, min_length=50, do_sample=False)[0][\"summary_text\"]\n",
    "    else:\n",
    "        article[\"summary\"] = \"No abstract available for summarization.\"\n",
    "\n",
    "for article in parsed_articles:\n",
    "    if article[\"abstract\"] and article[\"abstract\"] != \"No abstract\":\n",
    "    \n",
    "        input_length = len(article[\"abstract\"].split())\n",
    "        max_len = min(50, input_length + 10)  \n",
    "        min_len = max(10, int(max_len * 0.5))  \n",
    "\n",
    "        if min_len >= max_len:\n",
    "            min_len = max_len - 1  \n",
    "\n",
    "        try:\n",
    "            summary_result = summarizer(\n",
    "                article[\"abstract\"],\n",
    "                max_length=max_len,\n",
    "                min_length=min_len,\n",
    "                do_sample=False,\n",
    "            )\n",
    "            print(f\"Summary Result: {summary_result}\")  \n",
    "            article[\"summary\"] = summary_result[0][\"summary_text\"]\n",
    "        except Exception as e:\n",
    "            print(f\"Error summarizing article: {e}\")\n",
    "            article[\"summary\"] = \"Summary generation failed.\"\n",
    "\n",
    "for article in parsed_articles:\n",
    "    print(f\"Title: {article['title']}\")\n",
    "    print(f\"Abstract: {article['abstract']}\")\n",
    "    print(f\"Summary: {article['summary']}\")\n",
    "    print(\"-\" * 80)  "
   ]
  },
  {
   "cell_type": "markdown",
   "metadata": {},
   "source": [
    "## Further tests with ACS scrapping"
   ]
  },
  {
   "cell_type": "code",
   "execution_count": null,
   "metadata": {},
   "outputs": [],
   "source": [
    "from selenium import webdriver\n",
    "from selenium.webdriver.common.by import By\n",
    "from selenium.webdriver.chrome.service import Service\n",
    "from selenium.webdriver.chrome.options import Options\n",
    "from selenium.webdriver.support.ui import WebDriverWait\n",
    "from selenium.webdriver.support import expected_conditions as EC\n",
    "import time\n",
    "\n",
    "def fetch_acs_articles_selenium(query, max_results=5):\n",
    "    \"\"\"Fetch articles from ACS using Selenium.\"\"\"\n",
    "    base_url = f\"https://pubs.acs.org/action/doSearch?AllField={query}\"\n",
    "\n",
    "    # Set up Selenium with headless Chrome\n",
    "    service = Service(\"/Users/davidsegura/chromedriver-mac-arm64/chromedriver\")\n",
    "    options = Options()\n",
    "    options.add_argument(\"--disable-gpu\")\n",
    "    options.add_argument(\"--no-sandbox\")\n",
    "    options.add_argument(\"--headless\")  \n",
    "    options.add_argument(\"user-agent=Mozilla/5.0 (Macintosh; Intel Mac OS X 10_15_7) AppleWebKit/537.36 (KHTML, like Gecko) Chrome/91.0.4472.124 Safari/537.36\")\n",
    "\n",
    "    driver = webdriver.Chrome(service=service, options=options)\n",
    "\n",
    "    try:\n",
    "        driver.get(base_url)\n",
    "\n",
    "        WebDriverWait(driver, 10).until(\n",
    "            EC.presence_of_all_elements_located((By.CLASS_NAME, \"issue-item_metadata\"))\n",
    "        )\n",
    "\n",
    "        articles = []\n",
    "        results = driver.find_elements(By.CLASS_NAME, \"issue-item_metadata\")\n",
    "\n",
    "        for result in results[:max_results]:  \n",
    "            try:\n",
    "                title = result.find_element(By.CLASS_NAME, \"issue-item_title\").text\n",
    "\n",
    "                # Find the abstract link\n",
    "                try:\n",
    "                    abstract_link = result.find_element(By.XPATH, \".//a[@title='Abstract']\")\n",
    "                    abstract_url = abstract_link.get_attribute(\"href\")\n",
    "                except Exception:\n",
    "                    abstract_url = None\n",
    "\n",
    "                # Open abstract page and extract text\n",
    "                abstract_text = \"No abstract available\"\n",
    "                if abstract_url:\n",
    "                    driver.execute_script(\"window.open(arguments[0]);\", abstract_url)\n",
    "                    driver.switch_to.window(driver.window_handles[-1])  \n",
    "                    time.sleep(5)  \n",
    "\n",
    "                    try:\n",
    "                        abstract_elements = driver.find_elements(By.CLASS_NAME, \"articleBody_abstractText\")\n",
    "                        if not abstract_elements:\n",
    "                            abstract_elements = driver.find_elements(By.CLASS_NAME, \"NLM_abs\")  # Alternative selector\n",
    "\n",
    "                        if abstract_elements:\n",
    "                            abstract_text = \" \".join([element.text for element in abstract_elements])\n",
    "                        else:\n",
    "                            print(f\"Could not extract abstract for {title}\")\n",
    "\n",
    "                    except Exception as e:\n",
    "                        print(f\"Error extracting abstract for {title}: {e}\")\n",
    "\n",
    "                    driver.close()\n",
    "                    driver.switch_to.window(driver.window_handles[0])  # Back to main page\n",
    "\n",
    "                link = result.find_element(By.TAG_NAME, \"a\").get_attribute(\"href\")\n",
    "                articles.append({\"title\": title, \"abstract\": abstract_text, \"link\": link})\n",
    "\n",
    "            except Exception as e:\n",
    "                print(f\"Error processing an article: {e}\")\n",
    "                continue\n",
    "\n",
    "        return articles\n",
    "\n",
    "    except Exception as e:\n",
    "        print(f\"Error fetching ACS articles using Selenium: {e}\")\n",
    "        return []\n",
    "\n",
    "    finally:\n",
    "        driver.quit()\n",
    "\n",
    "query = \"machine learning for chemistry\"\n",
    "articles = fetch_acs_articles_selenium(query, max_results=5)\n",
    "\n",
    "if articles:\n",
    "    for article in articles:\n",
    "        print(f\"Title: {article['title']}\")\n",
    "        print(f\"Abstract: {article['abstract']}\")\n",
    "        print(f\"Link: {article['link']}\")\n",
    "        print(\"-\" * 80)\n",
    "else:\n",
    "    print(\"No articles found or an error occurred.\")\n"
   ]
  }
 ],
 "metadata": {
  "kernelspec": {
   "display_name": "my_environment",
   "language": "python",
   "name": "python3"
  },
  "language_info": {
   "codemirror_mode": {
    "name": "ipython",
    "version": 3
   },
   "file_extension": ".py",
   "mimetype": "text/x-python",
   "name": "python",
   "nbconvert_exporter": "python",
   "pygments_lexer": "ipython3",
   "version": "3.9.21"
  }
 },
 "nbformat": 4,
 "nbformat_minor": 2
}
